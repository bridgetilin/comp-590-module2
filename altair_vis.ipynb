{
 "cells": [
  {
   "cell_type": "markdown",
   "metadata": {},
   "source": [
    "# COMP 590 - Module 2 Assignment\n",
    "## Bridget Lin"
   ]
  },
  {
   "cell_type": "markdown",
   "metadata": {},
   "source": [
    "Target Question: How does the burden of drug overdoses differ in the United States over time and within population subgroups?\n",
    "Data for this project come from CDC data from 1999-2018, which can be retrieved from this link: https://catalog.data.gov/dataset/drug-overdose-death-rates-by-drug-type-sex-age-race-and-hispanic-origin-united-states-3f72f/resource/48eb6490-5709-43f3-ae4a-3c7d3a4b0c2c?inner_span=True"
   ]
  },
  {
   "cell_type": "code",
   "execution_count": null,
   "metadata": {},
   "outputs": [],
   "source": [
    "# Import pandas and the drug overdose dataset\n",
    "\n",
    "import pandas as pd\n",
    "\n",
    "data = pd.read_csv(\"Drug_overdose_death_rates__by_drug_type__sex__age__race__and_Hispanic_origin__United_States.csv\")"
   ]
  },
  {
   "cell_type": "code",
   "execution_count": 140,
   "metadata": {},
   "outputs": [
    {
     "data": {
      "text/html": [
       "\n",
       "<style>\n",
       "  #altair-viz-32c8c29dc2e04e58a3e0426168566a92.vega-embed {\n",
       "    width: 100%;\n",
       "    display: flex;\n",
       "  }\n",
       "\n",
       "  #altair-viz-32c8c29dc2e04e58a3e0426168566a92.vega-embed details,\n",
       "  #altair-viz-32c8c29dc2e04e58a3e0426168566a92.vega-embed details summary {\n",
       "    position: relative;\n",
       "  }\n",
       "</style>\n",
       "<div id=\"altair-viz-32c8c29dc2e04e58a3e0426168566a92\"></div>\n",
       "<script type=\"text/javascript\">\n",
       "  var VEGA_DEBUG = (typeof VEGA_DEBUG == \"undefined\") ? {} : VEGA_DEBUG;\n",
       "  (function(spec, embedOpt){\n",
       "    let outputDiv = document.currentScript.previousElementSibling;\n",
       "    if (outputDiv.id !== \"altair-viz-32c8c29dc2e04e58a3e0426168566a92\") {\n",
       "      outputDiv = document.getElementById(\"altair-viz-32c8c29dc2e04e58a3e0426168566a92\");\n",
       "    }\n",
       "    const paths = {\n",
       "      \"vega\": \"https://cdn.jsdelivr.net/npm/vega@5?noext\",\n",
       "      \"vega-lib\": \"https://cdn.jsdelivr.net/npm/vega-lib?noext\",\n",
       "      \"vega-lite\": \"https://cdn.jsdelivr.net/npm/vega-lite@5.16.3?noext\",\n",
       "      \"vega-embed\": \"https://cdn.jsdelivr.net/npm/vega-embed@6?noext\",\n",
       "    };\n",
       "\n",
       "    function maybeLoadScript(lib, version) {\n",
       "      var key = `${lib.replace(\"-\", \"\")}_version`;\n",
       "      return (VEGA_DEBUG[key] == version) ?\n",
       "        Promise.resolve(paths[lib]) :\n",
       "        new Promise(function(resolve, reject) {\n",
       "          var s = document.createElement('script');\n",
       "          document.getElementsByTagName(\"head\")[0].appendChild(s);\n",
       "          s.async = true;\n",
       "          s.onload = () => {\n",
       "            VEGA_DEBUG[key] = version;\n",
       "            return resolve(paths[lib]);\n",
       "          };\n",
       "          s.onerror = () => reject(`Error loading script: ${paths[lib]}`);\n",
       "          s.src = paths[lib];\n",
       "        });\n",
       "    }\n",
       "\n",
       "    function showError(err) {\n",
       "      outputDiv.innerHTML = `<div class=\"error\" style=\"color:red;\">${err}</div>`;\n",
       "      throw err;\n",
       "    }\n",
       "\n",
       "    function displayChart(vegaEmbed) {\n",
       "      vegaEmbed(outputDiv, spec, embedOpt)\n",
       "        .catch(err => showError(`Javascript Error: ${err.message}<br>This usually means there's a typo in your chart specification. See the javascript console for the full traceback.`));\n",
       "    }\n",
       "\n",
       "    if(typeof define === \"function\" && define.amd) {\n",
       "      requirejs.config({paths});\n",
       "      require([\"vega-embed\"], displayChart, err => showError(`Error loading script: ${err.message}`));\n",
       "    } else {\n",
       "      maybeLoadScript(\"vega\", \"5\")\n",
       "        .then(() => maybeLoadScript(\"vega-lite\", \"5.16.3\"))\n",
       "        .then(() => maybeLoadScript(\"vega-embed\", \"6\"))\n",
       "        .catch(showError)\n",
       "        .then(() => displayChart(vegaEmbed));\n",
       "    }\n",
       "  })({\"config\": {\"view\": {\"continuousWidth\": 300, \"continuousHeight\": 300}}, \"data\": {\"name\": \"data-64e8eaaf9633b1f9baf751f4406f9860\"}, \"mark\": {\"type\": \"line\"}, \"encoding\": {\"color\": {\"field\": \"PANEL\", \"legend\": {\"columns\": 1, \"labelLimit\": 0, \"orient\": \"right\", \"title\": \"Type of Overdose\", \"titleLimit\": 600}, \"type\": \"nominal\"}, \"x\": {\"axis\": {\"title\": \"Year\"}, \"field\": \"YEAR\", \"type\": \"ordinal\"}, \"y\": {\"axis\": {\"title\": \"Deaths per 100,000\"}, \"field\": \"ESTIMATE\", \"type\": \"quantitative\"}}, \"title\": \"Drug Overdose Death Rates by Year (1999-2018) Based on Type of Overdose\", \"width\": 500, \"$schema\": \"https://vega.github.io/schema/vega-lite/v5.16.3.json\", \"datasets\": {\"data-64e8eaaf9633b1f9baf751f4406f9860\": [{\"YEAR\": 1999, \"PANEL\": \"All drug overdose deaths\", \"ESTIMATE\": 6.05}, {\"YEAR\": 1999, \"PANEL\": \"Any opioid\", \"ESTIMATE\": 2.9}, {\"YEAR\": 1999, \"PANEL\": \"Heroin\", \"ESTIMATE\": 0.7}, {\"YEAR\": 1999, \"PANEL\": \"Methadone\", \"ESTIMATE\": 0.3}, {\"YEAR\": 1999, \"PANEL\": \"Natural and semisynthetic opioids\", \"ESTIMATE\": 1.0}, {\"YEAR\": 1999, \"PANEL\": \"Synthetic opioids other than methadone\", \"ESTIMATE\": 0.3}, {\"YEAR\": 2000, \"PANEL\": \"All drug overdose deaths\", \"ESTIMATE\": 6.2}, {\"YEAR\": 2000, \"PANEL\": \"Any opioid\", \"ESTIMATE\": 3.0}, {\"YEAR\": 2000, \"PANEL\": \"Heroin\", \"ESTIMATE\": 0.7}, {\"YEAR\": 2000, \"PANEL\": \"Methadone\", \"ESTIMATE\": 0.4}, {\"YEAR\": 2000, \"PANEL\": \"Natural and semisynthetic opioids\", \"ESTIMATE\": 1.0}, {\"YEAR\": 2000, \"PANEL\": \"Synthetic opioids other than methadone\", \"ESTIMATE\": 0.3}, {\"YEAR\": 2001, \"PANEL\": \"All drug overdose deaths\", \"ESTIMATE\": 6.8}, {\"YEAR\": 2001, \"PANEL\": \"Any opioid\", \"ESTIMATE\": 3.3}, {\"YEAR\": 2001, \"PANEL\": \"Heroin\", \"ESTIMATE\": 0.6}, {\"YEAR\": 2001, \"PANEL\": \"Methadone\", \"ESTIMATE\": 0.5}, {\"YEAR\": 2001, \"PANEL\": \"Natural and semisynthetic opioids\", \"ESTIMATE\": 1.2}, {\"YEAR\": 2001, \"PANEL\": \"Synthetic opioids other than methadone\", \"ESTIMATE\": 0.3}, {\"YEAR\": 2002, \"PANEL\": \"All drug overdose deaths\", \"ESTIMATE\": 8.2}, {\"YEAR\": 2002, \"PANEL\": \"Any opioid\", \"ESTIMATE\": 4.1}, {\"YEAR\": 2002, \"PANEL\": \"Heroin\", \"ESTIMATE\": 0.7}, {\"YEAR\": 2002, \"PANEL\": \"Methadone\", \"ESTIMATE\": 0.8}, {\"YEAR\": 2002, \"PANEL\": \"Natural and semisynthetic opioids\", \"ESTIMATE\": 1.5}, {\"YEAR\": 2002, \"PANEL\": \"Synthetic opioids other than methadone\", \"ESTIMATE\": 0.45}, {\"YEAR\": 2003, \"PANEL\": \"All drug overdose deaths\", \"ESTIMATE\": 8.9}, {\"YEAR\": 2003, \"PANEL\": \"Any opioid\", \"ESTIMATE\": 4.5}, {\"YEAR\": 2003, \"PANEL\": \"Heroin\", \"ESTIMATE\": 0.7}, {\"YEAR\": 2003, \"PANEL\": \"Methadone\", \"ESTIMATE\": 1.0}, {\"YEAR\": 2003, \"PANEL\": \"Natural and semisynthetic opioids\", \"ESTIMATE\": 1.7}, {\"YEAR\": 2003, \"PANEL\": \"Synthetic opioids other than methadone\", \"ESTIMATE\": 0.5}, {\"YEAR\": 2004, \"PANEL\": \"All drug overdose deaths\", \"ESTIMATE\": 9.4}, {\"YEAR\": 2004, \"PANEL\": \"Any opioid\", \"ESTIMATE\": 4.7}, {\"YEAR\": 2004, \"PANEL\": \"Heroin\", \"ESTIMATE\": 0.6}, {\"YEAR\": 2004, \"PANEL\": \"Methadone\", \"ESTIMATE\": 1.3}, {\"YEAR\": 2004, \"PANEL\": \"Natural and semisynthetic opioids\", \"ESTIMATE\": 1.8}, {\"YEAR\": 2004, \"PANEL\": \"Synthetic opioids other than methadone\", \"ESTIMATE\": 0.6}, {\"YEAR\": 2005, \"PANEL\": \"All drug overdose deaths\", \"ESTIMATE\": 10.1}, {\"YEAR\": 2005, \"PANEL\": \"Any opioid\", \"ESTIMATE\": 5.05}, {\"YEAR\": 2005, \"PANEL\": \"Heroin\", \"ESTIMATE\": 0.7}, {\"YEAR\": 2005, \"PANEL\": \"Methadone\", \"ESTIMATE\": 1.5}, {\"YEAR\": 2005, \"PANEL\": \"Natural and semisynthetic opioids\", \"ESTIMATE\": 1.95}, {\"YEAR\": 2005, \"PANEL\": \"Synthetic opioids other than methadone\", \"ESTIMATE\": 0.6}, {\"YEAR\": 2006, \"PANEL\": \"All drug overdose deaths\", \"ESTIMATE\": 11.5}, {\"YEAR\": 2006, \"PANEL\": \"Any opioid\", \"ESTIMATE\": 5.9}, {\"YEAR\": 2006, \"PANEL\": \"Heroin\", \"ESTIMATE\": 0.7}, {\"YEAR\": 2006, \"PANEL\": \"Methadone\", \"ESTIMATE\": 1.8}, {\"YEAR\": 2006, \"PANEL\": \"Natural and semisynthetic opioids\", \"ESTIMATE\": 2.3499999999999996}, {\"YEAR\": 2006, \"PANEL\": \"Synthetic opioids other than methadone\", \"ESTIMATE\": 0.9}, {\"YEAR\": 2007, \"PANEL\": \"All drug overdose deaths\", \"ESTIMATE\": 11.95}, {\"YEAR\": 2007, \"PANEL\": \"Any opioid\", \"ESTIMATE\": 6.1}, {\"YEAR\": 2007, \"PANEL\": \"Heroin\", \"ESTIMATE\": 0.8}, {\"YEAR\": 2007, \"PANEL\": \"Methadone\", \"ESTIMATE\": 1.8}, {\"YEAR\": 2007, \"PANEL\": \"Natural and semisynthetic opioids\", \"ESTIMATE\": 2.7}, {\"YEAR\": 2007, \"PANEL\": \"Synthetic opioids other than methadone\", \"ESTIMATE\": 0.7}, {\"YEAR\": 2008, \"PANEL\": \"All drug overdose deaths\", \"ESTIMATE\": 11.95}, {\"YEAR\": 2008, \"PANEL\": \"Any opioid\", \"ESTIMATE\": 6.4}, {\"YEAR\": 2008, \"PANEL\": \"Heroin\", \"ESTIMATE\": 1.0}, {\"YEAR\": 2008, \"PANEL\": \"Methadone\", \"ESTIMATE\": 1.6}, {\"YEAR\": 2008, \"PANEL\": \"Natural and semisynthetic opioids\", \"ESTIMATE\": 3.0}, {\"YEAR\": 2008, \"PANEL\": \"Synthetic opioids other than methadone\", \"ESTIMATE\": 0.8}, {\"YEAR\": 2009, \"PANEL\": \"All drug overdose deaths\", \"ESTIMATE\": 12.0}, {\"YEAR\": 2009, \"PANEL\": \"Any opioid\", \"ESTIMATE\": 6.65}, {\"YEAR\": 2009, \"PANEL\": \"Heroin\", \"ESTIMATE\": 1.1}, {\"YEAR\": 2009, \"PANEL\": \"Methadone\", \"ESTIMATE\": 1.5}, {\"YEAR\": 2009, \"PANEL\": \"Natural and semisynthetic opioids\", \"ESTIMATE\": 3.1500000000000004}, {\"YEAR\": 2009, \"PANEL\": \"Synthetic opioids other than methadone\", \"ESTIMATE\": 1.0}, {\"YEAR\": 2010, \"PANEL\": \"All drug overdose deaths\", \"ESTIMATE\": 12.350000000000001}, {\"YEAR\": 2010, \"PANEL\": \"Any opioid\", \"ESTIMATE\": 6.8}, {\"YEAR\": 2010, \"PANEL\": \"Heroin\", \"ESTIMATE\": 1.0}, {\"YEAR\": 2010, \"PANEL\": \"Methadone\", \"ESTIMATE\": 1.5}, {\"YEAR\": 2010, \"PANEL\": \"Natural and semisynthetic opioids\", \"ESTIMATE\": 3.5}, {\"YEAR\": 2010, \"PANEL\": \"Synthetic opioids other than methadone\", \"ESTIMATE\": 1.0}, {\"YEAR\": 2011, \"PANEL\": \"All drug overdose deaths\", \"ESTIMATE\": 13.25}, {\"YEAR\": 2011, \"PANEL\": \"Any opioid\", \"ESTIMATE\": 7.3}, {\"YEAR\": 2011, \"PANEL\": \"Heroin\", \"ESTIMATE\": 1.4}, {\"YEAR\": 2011, \"PANEL\": \"Methadone\", \"ESTIMATE\": 1.4}, {\"YEAR\": 2011, \"PANEL\": \"Natural and semisynthetic opioids\", \"ESTIMATE\": 3.75}, {\"YEAR\": 2011, \"PANEL\": \"Synthetic opioids other than methadone\", \"ESTIMATE\": 0.8500000000000001}, {\"YEAR\": 2012, \"PANEL\": \"All drug overdose deaths\", \"ESTIMATE\": 13.149999999999999}, {\"YEAR\": 2012, \"PANEL\": \"Any opioid\", \"ESTIMATE\": 7.4}, {\"YEAR\": 2012, \"PANEL\": \"Heroin\", \"ESTIMATE\": 1.9}, {\"YEAR\": 2012, \"PANEL\": \"Methadone\", \"ESTIMATE\": 1.25}, {\"YEAR\": 2012, \"PANEL\": \"Natural and semisynthetic opioids\", \"ESTIMATE\": 3.5}, {\"YEAR\": 2012, \"PANEL\": \"Synthetic opioids other than methadone\", \"ESTIMATE\": 0.8}, {\"YEAR\": 2013, \"PANEL\": \"All drug overdose deaths\", \"ESTIMATE\": 13.850000000000001}, {\"YEAR\": 2013, \"PANEL\": \"Any opioid\", \"ESTIMATE\": 7.9}, {\"YEAR\": 2013, \"PANEL\": \"Heroin\", \"ESTIMATE\": 2.6500000000000004}, {\"YEAR\": 2013, \"PANEL\": \"Methadone\", \"ESTIMATE\": 1.1}, {\"YEAR\": 2013, \"PANEL\": \"Natural and semisynthetic opioids\", \"ESTIMATE\": 3.55}, {\"YEAR\": 2013, \"PANEL\": \"Synthetic opioids other than methadone\", \"ESTIMATE\": 1.0}, {\"YEAR\": 2014, \"PANEL\": \"All drug overdose deaths\", \"ESTIMATE\": 14.75}, {\"YEAR\": 2014, \"PANEL\": \"Any opioid\", \"ESTIMATE\": 9.0}, {\"YEAR\": 2014, \"PANEL\": \"Heroin\", \"ESTIMATE\": 3.3499999999999996}, {\"YEAR\": 2014, \"PANEL\": \"Methadone\", \"ESTIMATE\": 1.1}, {\"YEAR\": 2014, \"PANEL\": \"Natural and semisynthetic opioids\", \"ESTIMATE\": 3.8}, {\"YEAR\": 2014, \"PANEL\": \"Synthetic opioids other than methadone\", \"ESTIMATE\": 1.75}, {\"YEAR\": 2015, \"PANEL\": \"All drug overdose deaths\", \"ESTIMATE\": 16.3}, {\"YEAR\": 2015, \"PANEL\": \"Any opioid\", \"ESTIMATE\": 10.350000000000001}, {\"YEAR\": 2015, \"PANEL\": \"Heroin\", \"ESTIMATE\": 4.05}, {\"YEAR\": 2015, \"PANEL\": \"Methadone\", \"ESTIMATE\": 1.0}, {\"YEAR\": 2015, \"PANEL\": \"Natural and semisynthetic opioids\", \"ESTIMATE\": 3.95}, {\"YEAR\": 2015, \"PANEL\": \"Synthetic opioids other than methadone\", \"ESTIMATE\": 3.05}, {\"YEAR\": 2016, \"PANEL\": \"All drug overdose deaths\", \"ESTIMATE\": 19.75}, {\"YEAR\": 2016, \"PANEL\": \"Any opioid\", \"ESTIMATE\": 13.2}, {\"YEAR\": 2016, \"PANEL\": \"Heroin\", \"ESTIMATE\": 4.85}, {\"YEAR\": 2016, \"PANEL\": \"Methadone\", \"ESTIMATE\": 1.0}, {\"YEAR\": 2016, \"PANEL\": \"Natural and semisynthetic opioids\", \"ESTIMATE\": 4.45}, {\"YEAR\": 2016, \"PANEL\": \"Synthetic opioids other than methadone\", \"ESTIMATE\": 6.1}, {\"YEAR\": 2017, \"PANEL\": \"All drug overdose deaths\", \"ESTIMATE\": 21.65}, {\"YEAR\": 2017, \"PANEL\": \"Any opioid\", \"ESTIMATE\": 14.75}, {\"YEAR\": 2017, \"PANEL\": \"Heroin\", \"ESTIMATE\": 4.85}, {\"YEAR\": 2017, \"PANEL\": \"Methadone\", \"ESTIMATE\": 1.0}, {\"YEAR\": 2017, \"PANEL\": \"Natural and semisynthetic opioids\", \"ESTIMATE\": 4.45}, {\"YEAR\": 2017, \"PANEL\": \"Synthetic opioids other than methadone\", \"ESTIMATE\": 8.85}, {\"YEAR\": 2018, \"PANEL\": \"All drug overdose deaths\", \"ESTIMATE\": 20.65}, {\"YEAR\": 2018, \"PANEL\": \"Any opioid\", \"ESTIMATE\": 14.45}, {\"YEAR\": 2018, \"PANEL\": \"Heroin\", \"ESTIMATE\": 4.65}, {\"YEAR\": 2018, \"PANEL\": \"Methadone\", \"ESTIMATE\": 0.9}, {\"YEAR\": 2018, \"PANEL\": \"Natural and semisynthetic opioids\", \"ESTIMATE\": 3.8}, {\"YEAR\": 2018, \"PANEL\": \"Synthetic opioids other than methadone\", \"ESTIMATE\": 9.75}]}}, {\"mode\": \"vega-lite\"});\n",
       "</script>"
      ],
      "text/plain": [
       "alt.Chart(...)"
      ]
     },
     "execution_count": 140,
     "metadata": {},
     "output_type": "execute_result"
    }
   ],
   "source": [
    "#Altair Visualization\n",
    "import altair as alt\n",
    "\n",
    "filtered_data = data[(data['AGE'] == 'All ages') & (data['STUB_LABEL'] == 'All persons') & (data['STUB_NAME'] == 'Total')]\n",
    "\n",
    "panel_mapping = {'Drug overdose deaths involving other synthetic opioids (other than methadone)': 'Synthetic opioids other than methadone', \n",
    "                 'Drug overdose deaths involving any opioid': 'Any opioid', \n",
    "                 'Drug overdose deaths involving heroin': 'Heroin', \n",
    "                 'Drug overdose deaths involving methadone': 'Methadone',\n",
    "                 'Drug overdose deaths involving natural and semisynthetic opioids': 'Natural and semisynthetic opioids'}\n",
    "\n",
    "agg_data = filtered_data.groupby(['YEAR', 'PANEL']).agg({'ESTIMATE': 'mean'}).reset_index()\n",
    "agg_data['PANEL'] = agg_data['PANEL'].replace(panel_mapping)\n",
    "\n",
    "line_chart = alt.Chart(agg_data).mark_line().encode(\n",
    "     x=alt.X('YEAR:O', axis=alt.Axis(title='Year')),\n",
    "    y=alt.Y('ESTIMATE:Q', axis=alt.Axis(title='Deaths per 100,000')),\n",
    "        color=alt.Color('PANEL:N', legend=alt.Legend(title='Type of Overdose', titleLimit=600, orient='right', columns=1, labelLimit=0))\n",
    ").properties(\n",
    "    title='Drug Overdose Death Rates by Year (1999-2018) Based on Type of Overdose',\n",
    "    width=500  \n",
    ")\n",
    "\n",
    "line_chart"
   ]
  },
  {
   "cell_type": "code",
   "execution_count": 144,
   "metadata": {},
   "outputs": [
    {
     "data": {
      "image/png": "[encoded data removed]",
      "text/plain": [
       "<Figure size 640x480 with 1 Axes>"
      ]
     },
     "metadata": {},
     "output_type": "display_data"
    }
   ],
   "source": [
    "#Matplotlib Visualization\n",
    "import pandas as pd\n",
    "import matplotlib.pyplot as plt\n",
    "import numpy as np\n",
    "\n",
    "# Data filtering and re-labeling\n",
    "filtered_data2 = data[(data['AGE'] == 'All ages') & (data['STUB_NAME'] == 'Sex') & (data['YEAR'] == 2018)]\n",
    "\n",
    "agg_data2 = filtered_data2.groupby(['YEAR', 'PANEL', 'STUB_LABEL']).agg({'ESTIMATE': 'mean'}).reset_index()\n",
    "\n",
    "# Panel mapping\n",
    "panel_mapping = {'All drug overdose deaths' : 'All deaths',\n",
    "                 'Drug overdose deaths involving other synthetic opioids (other than methadone)': 'Synthetic opioids', \n",
    "                 'Drug overdose deaths involving any opioid': 'Any opioid', \n",
    "                 'Drug overdose deaths involving heroin': 'Heroin', \n",
    "                 'Drug overdose deaths involving methadone': 'Methadone',\n",
    "                 'Drug overdose deaths involving natural and semisynthetic opioids': 'Natural/semisynthetic'}\n",
    "\n",
    "agg_data2['PANEL'] = agg_data2['PANEL'].replace(panel_mapping)\n",
    "\n",
    "# Subset to data only from 2018\n",
    "agg_data_2018 = agg_data2[agg_data2['YEAR'] == 2018]\n",
    "\n",
    "# Group by 'STUB_LABEL' and 'PANEL'\n",
    "agg_data2_sex = agg_data2.groupby(['STUB_LABEL', 'PANEL']).agg({'ESTIMATE': 'mean'}).reset_index()\n",
    "\n",
    "# Separate data for male and female groups\n",
    "agg_data2_male = agg_data2_sex[agg_data2_sex['STUB_LABEL'] == 'Male']\n",
    "agg_data2_female = agg_data2_sex[agg_data2_sex['STUB_LABEL'] == 'Female']\n",
    "\n",
    "# Grouped bar chart\n",
    "fig, ax = plt.subplots()\n",
    "bar_width = 0.35\n",
    "x_male = np.arange(len(agg_data2_male['PANEL']))\n",
    "x_female = x_male + bar_width \n",
    "\n",
    "# Create 2 bars, one per gender\n",
    "male = ax.bar(x_male, agg_data2_male['ESTIMATE'], width=bar_width, label='Male', color='#3564A4')\n",
    "female = ax.bar(x_female, agg_data2_female['ESTIMATE'], width=bar_width, label='Female', color='#A72823')\n",
    "\n",
    "# Labeling\n",
    "ax.set_xlabel('Type of Overdose')\n",
    "ax.set_ylabel('Deaths per 100,000')\n",
    "ax.set_title('Estimate of Deaths by Type of Overdose in 2018 (Grouped by Gender)')\n",
    "ax.set_xticks(x_male + bar_width/2)\n",
    "ax.set_xticklabels(agg_data2_male['PANEL'], rotation=45, ha='right') \n",
    "ax.legend()\n",
    "\n",
    "# Display the bar chart \n",
    "plt.tight_layout()\n",
    "plt.show()\n"
   ]
  },
  {
   "cell_type": "code",
   "execution_count": 143,
   "metadata": {},
   "outputs": [
    {
     "data": {
      "application/vnd.plotly.v1+json": {
       "config": {
        "plotlyServerURL": "https://plot.ly"
       },
       "data": [
        {
         "hovertemplate": "color=All drug overdose deaths<br>x=%{x}<br>y=%{y}<extra></extra>",
         "legendgroup": "All drug overdose deaths",
         "marker": {
          "color": "#636efa",
          "symbol": "circle"
         },
         "mode": "markers",
         "name": "All drug overdose deaths",
         "orientation": "v",
         "showlegend": true,
         "type": "scatter",
         "x": [
          "Under 15 years",
          "15-24 years",
          "25-34 years",
          "35-44 years",
          "45-54 years",
          "55-64 years",
          "65-74 years",
          "75-84 years",
          "85 years and over"
         ],
         "xaxis": "x",
         "y": [
          0.2,
          10.8,
          35.5,
          38.3,
          35.3,
          28.3,
          10.2,
          3.9,
          3.8
         ],
         "yaxis": "y"
        },
        {
         "hovertemplate": "color=Any opioid<br>x=%{x}<br>y=%{y}<extra></extra>",
         "legendgroup": "Any opioid",
         "marker": {
          "color": "#EF553B",
          "symbol": "circle"
         },
         "mode": "markers",
         "name": "Any opioid",
         "orientation": "v",
         "showlegend": true,
         "type": "scatter",
         "x": [
          "Under 15 years",
          "15-24 years",
          "25-34 years",
          "35-44 years",
          "45-54 years",
          "55-64 years",
          "65-74 years",
          "75-84 years",
          "85 years and over"
         ],
         "xaxis": "x",
         "y": [
          0.1,
          8.4,
          28.1,
          27.7,
          23,
          17.2,
          5.7,
          1.4,
          0.9
         ],
         "yaxis": "y"
        },
        {
         "hovertemplate": "color=Natural and semisynthetic opioids<br>x=%{x}<br>y=%{y}<extra></extra>",
         "legendgroup": "Natural and semisynthetic opioids",
         "marker": {
          "color": "#00cc96",
          "symbol": "circle"
         },
         "mode": "markers",
         "name": "Natural and semisynthetic opioids",
         "orientation": "v",
         "showlegend": true,
         "type": "scatter",
         "x": [
          "Under 15 years",
          "15-24 years",
          "25-34 years",
          "35-44 years",
          "45-54 years",
          "55-64 years",
          "65-74 years",
          "75-84 years",
          "85 years and over"
         ],
         "xaxis": "x",
         "y": [
          0,
          1.6,
          5.2,
          6.7,
          7,
          6.5,
          2.6,
          1.1,
          0.7
         ],
         "yaxis": "y"
        },
        {
         "hovertemplate": "color=Methadone<br>x=%{x}<br>y=%{y}<extra></extra>",
         "legendgroup": "Methadone",
         "marker": {
          "color": "#ab63fa",
          "symbol": "circle"
         },
         "mode": "markers",
         "name": "Methadone",
         "orientation": "v",
         "showlegend": true,
         "type": "scatter",
         "x": [
          "Under 15 years",
          "15-24 years",
          "25-34 years",
          "35-44 years",
          "45-54 years",
          "55-64 years",
          "65-74 years",
          "75-84 years",
          "85 years and over"
         ],
         "xaxis": "x",
         "y": [
          null,
          0.3,
          1.3,
          1.8,
          1.7,
          1.6,
          0.6,
          null,
          null
         ],
         "yaxis": "y"
        },
        {
         "hovertemplate": "color=Synthetic opioids other than methadone<br>x=%{x}<br>y=%{y}<extra></extra>",
         "legendgroup": "Synthetic opioids other than methadone",
         "marker": {
          "color": "#FFA15A",
          "symbol": "circle"
         },
         "mode": "markers",
         "name": "Synthetic opioids other than methadone",
         "orientation": "v",
         "showlegend": true,
         "type": "scatter",
         "x": [
          "Under 15 years",
          "15-24 years",
          "25-34 years",
          "35-44 years",
          "45-54 years",
          "55-64 years",
          "65-74 years",
          "75-84 years",
          "85 years and over"
         ],
         "xaxis": "x",
         "y": [
          0,
          6.1,
          20.9,
          19.6,
          14.7,
          9.5,
          2.6,
          0.4,
          null
         ],
         "yaxis": "y"
        },
        {
         "hovertemplate": "color=Heroin<br>x=%{x}<br>y=%{y}<extra></extra>",
         "legendgroup": "Heroin",
         "marker": {
          "color": "#19d3f3",
          "symbol": "circle"
         },
         "mode": "markers",
         "name": "Heroin",
         "orientation": "v",
         "showlegend": true,
         "type": "scatter",
         "x": [
          "Under 15 years",
          "15-24 years",
          "25-34 years",
          "35-44 years",
          "45-54 years",
          "55-64 years",
          "65-74 years",
          "75-84 years",
          "85 years and over"
         ],
         "xaxis": "x",
         "y": [
          null,
          2.7,
          10.2,
          9.1,
          7,
          4.9,
          1.4,
          null,
          null
         ],
         "yaxis": "y"
        }
       ],
       "layout": {
        "legend": {
         "title": {
          "text": "color"
         },
         "tracegroupgap": 0
        },
        "margin": {
         "t": 60
        },
        "template": {
         "data": {
          "bar": [
           {
            "error_x": {
             "color": "#2a3f5f"
            },
            "error_y": {
             "color": "#2a3f5f"
            },
            "marker": {
             "line": {
              "color": "#E5ECF6",
              "width": 0.5
             },
             "pattern": {
              "fillmode": "overlay",
              "size": 10,
              "solidity": 0.2
             }
            },
            "type": "bar"
           }
          ],
          "barpolar": [
           {
            "marker": {
             "line": {
              "color": "#E5ECF6",
              "width": 0.5
             },
             "pattern": {
              "fillmode": "overlay",
              "size": 10,
              "solidity": 0.2
             }
            },
            "type": "barpolar"
           }
          ],
          "carpet": [
           {
            "aaxis": {
             "endlinecolor": "#2a3f5f",
             "gridcolor": "white",
             "linecolor": "white",
             "minorgridcolor": "white",
             "startlinecolor": "#2a3f5f"
            },
            "baxis": {
             "endlinecolor": "#2a3f5f",
             "gridcolor": "white",
             "linecolor": "white",
             "minorgridcolor": "white",
             "startlinecolor": "#2a3f5f"
            },
            "type": "carpet"
           }
          ],
          "choropleth": [
           {
            "colorbar": {
             "outlinewidth": 0,
             "ticks": ""
            },
            "type": "choropleth"
           }
          ],
          "contour": [
           {
            "colorbar": {
             "outlinewidth": 0,
             "ticks": ""
            },
            "colorscale": [
             [
              0,
              "#0d0887"
             ],
             [
              0.1111111111111111,
              "#46039f"
             ],
             [
              0.2222222222222222,
              "#7201a8"
             ],
             [
              0.3333333333333333,
              "#9c179e"
             ],
             [
              0.4444444444444444,
              "#bd3786"
             ],
             [
              0.5555555555555556,
              "#d8576b"
             ],
             [
              0.6666666666666666,
              "#ed7953"
             ],
             [
              0.7777777777777778,
              "#fb9f3a"
             ],
             [
              0.8888888888888888,
              "#fdca26"
             ],
             [
              1,
              "#f0f921"
             ]
            ],
            "type": "contour"
           }
          ],
          "contourcarpet": [
           {
            "colorbar": {
             "outlinewidth": 0,
             "ticks": ""
            },
            "type": "contourcarpet"
           }
          ],
          "heatmap": [
           {
            "colorbar": {
             "outlinewidth": 0,
             "ticks": ""
            },
            "colorscale": [
             [
              0,
              "#0d0887"
             ],
             [
              0.1111111111111111,
              "#46039f"
             ],
             [
              0.2222222222222222,
              "#7201a8"
             ],
             [
              0.3333333333333333,
              "#9c179e"
             ],
             [
              0.4444444444444444,
              "#bd3786"
             ],
             [
              0.5555555555555556,
              "#d8576b"
             ],
             [
              0.6666666666666666,
              "#ed7953"
             ],
             [
              0.7777777777777778,
              "#fb9f3a"
             ],
             [
              0.8888888888888888,
              "#fdca26"
             ],
             [
              1,
              "#f0f921"
             ]
            ],
            "type": "heatmap"
           }
          ],
          "heatmapgl": [
           {
            "colorbar": {
             "outlinewidth": 0,
             "ticks": ""
            },
            "colorscale": [
             [
              0,
              "#0d0887"
             ],
             [
              0.1111111111111111,
              "#46039f"
             ],
             [
              0.2222222222222222,
              "#7201a8"
             ],
             [
              0.3333333333333333,
              "#9c179e"
             ],
             [
              0.4444444444444444,
              "#bd3786"
             ],
             [
              0.5555555555555556,
              "#d8576b"
             ],
             [
              0.6666666666666666,
              "#ed7953"
             ],
             [
              0.7777777777777778,
              "#fb9f3a"
             ],
             [
              0.8888888888888888,
              "#fdca26"
             ],
             [
              1,
              "#f0f921"
             ]
            ],
            "type": "heatmapgl"
           }
          ],
          "histogram": [
           {
            "marker": {
             "pattern": {
              "fillmode": "overlay",
              "size": 10,
              "solidity": 0.2
             }
            },
            "type": "histogram"
           }
          ],
          "histogram2d": [
           {
            "colorbar": {
             "outlinewidth": 0,
             "ticks": ""
            },
            "colorscale": [
             [
              0,
              "#0d0887"
             ],
             [
              0.1111111111111111,
              "#46039f"
             ],
             [
              0.2222222222222222,
              "#7201a8"
             ],
             [
              0.3333333333333333,
              "#9c179e"
             ],
             [
              0.4444444444444444,
              "#bd3786"
             ],
             [
              0.5555555555555556,
              "#d8576b"
             ],
             [
              0.6666666666666666,
              "#ed7953"
             ],
             [
              0.7777777777777778,
              "#fb9f3a"
             ],
             [
              0.8888888888888888,
              "#fdca26"
             ],
             [
              1,
              "#f0f921"
             ]
            ],
            "type": "histogram2d"
           }
          ],
          "histogram2dcontour": [
           {
            "colorbar": {
             "outlinewidth": 0,
             "ticks": ""
            },
            "colorscale": [
             [
              0,
              "#0d0887"
             ],
             [
              0.1111111111111111,
              "#46039f"
             ],
             [
              0.2222222222222222,
              "#7201a8"
             ],
             [
              0.3333333333333333,
              "#9c179e"
             ],
             [
              0.4444444444444444,
              "#bd3786"
             ],
             [
              0.5555555555555556,
              "#d8576b"
             ],
             [
              0.6666666666666666,
              "#ed7953"
             ],
             [
              0.7777777777777778,
              "#fb9f3a"
             ],
             [
              0.8888888888888888,
              "#fdca26"
             ],
             [
              1,
              "#f0f921"
             ]
            ],
            "type": "histogram2dcontour"
           }
          ],
          "mesh3d": [
           {
            "colorbar": {
             "outlinewidth": 0,
             "ticks": ""
            },
            "type": "mesh3d"
           }
          ],
          "parcoords": [
           {
            "line": {
             "colorbar": {
              "outlinewidth": 0,
              "ticks": ""
             }
            },
            "type": "parcoords"
           }
          ],
          "pie": [
           {
            "automargin": true,
            "type": "pie"
           }
          ],
          "scatter": [
           {
            "fillpattern": {
             "fillmode": "overlay",
             "size": 10,
             "solidity": 0.2
            },
            "type": "scatter"
           }
          ],
          "scatter3d": [
           {
            "line": {
             "colorbar": {
              "outlinewidth": 0,
              "ticks": ""
             }
            },
            "marker": {
             "colorbar": {
              "outlinewidth": 0,
              "ticks": ""
             }
            },
            "type": "scatter3d"
           }
          ],
          "scattercarpet": [
           {
            "marker": {
             "colorbar": {
              "outlinewidth": 0,
              "ticks": ""
             }
            },
            "type": "scattercarpet"
           }
          ],
          "scattergeo": [
           {
            "marker": {
             "colorbar": {
              "outlinewidth": 0,
              "ticks": ""
             }
            },
            "type": "scattergeo"
           }
          ],
          "scattergl": [
           {
            "marker": {
             "colorbar": {
              "outlinewidth": 0,
              "ticks": ""
             }
            },
            "type": "scattergl"
           }
          ],
          "scattermapbox": [
           {
            "marker": {
             "colorbar": {
              "outlinewidth": 0,
              "ticks": ""
             }
            },
            "type": "scattermapbox"
           }
          ],
          "scatterpolar": [
           {
            "marker": {
             "colorbar": {
              "outlinewidth": 0,
              "ticks": ""
             }
            },
            "type": "scatterpolar"
           }
          ],
          "scatterpolargl": [
           {
            "marker": {
             "colorbar": {
              "outlinewidth": 0,
              "ticks": ""
             }
            },
            "type": "scatterpolargl"
           }
          ],
          "scatterternary": [
           {
            "marker": {
             "colorbar": {
              "outlinewidth": 0,
              "ticks": ""
             }
            },
            "type": "scatterternary"
           }
          ],
          "surface": [
           {
            "colorbar": {
             "outlinewidth": 0,
             "ticks": ""
            },
            "colorscale": [
             [
              0,
              "#0d0887"
             ],
             [
              0.1111111111111111,
              "#46039f"
             ],
             [
              0.2222222222222222,
              "#7201a8"
             ],
             [
              0.3333333333333333,
              "#9c179e"
             ],
             [
              0.4444444444444444,
              "#bd3786"
             ],
             [
              0.5555555555555556,
              "#d8576b"
             ],
             [
              0.6666666666666666,
              "#ed7953"
             ],
             [
              0.7777777777777778,
              "#fb9f3a"
             ],
             [
              0.8888888888888888,
              "#fdca26"
             ],
             [
              1,
              "#f0f921"
             ]
            ],
            "type": "surface"
           }
          ],
          "table": [
           {
            "cells": {
             "fill": {
              "color": "#EBF0F8"
             },
             "line": {
              "color": "white"
             }
            },
            "header": {
             "fill": {
              "color": "#C8D4E3"
             },
             "line": {
              "color": "white"
             }
            },
            "type": "table"
           }
          ]
         },
         "layout": {
          "annotationdefaults": {
           "arrowcolor": "#2a3f5f",
           "arrowhead": 0,
           "arrowwidth": 1
          },
          "autotypenumbers": "strict",
          "coloraxis": {
           "colorbar": {
            "outlinewidth": 0,
            "ticks": ""
           }
          },
          "colorscale": {
           "diverging": [
            [
             0,
             "#8e0152"
            ],
            [
             0.1,
             "#c51b7d"
            ],
            [
             0.2,
             "#de77ae"
            ],
            [
             0.3,
             "#f1b6da"
            ],
            [
             0.4,
             "#fde0ef"
            ],
            [
             0.5,
             "#f7f7f7"
            ],
            [
             0.6,
             "#e6f5d0"
            ],
            [
             0.7,
             "#b8e186"
            ],
            [
             0.8,
             "#7fbc41"
            ],
            [
             0.9,
             "#4d9221"
            ],
            [
             1,
             "#276419"
            ]
           ],
           "sequential": [
            [
             0,
             "#0d0887"
            ],
            [
             0.1111111111111111,
             "#46039f"
            ],
            [
             0.2222222222222222,
             "#7201a8"
            ],
            [
             0.3333333333333333,
             "#9c179e"
            ],
            [
             0.4444444444444444,
             "#bd3786"
            ],
            [
             0.5555555555555556,
             "#d8576b"
            ],
            [
             0.6666666666666666,
             "#ed7953"
            ],
            [
             0.7777777777777778,
             "#fb9f3a"
            ],
            [
             0.8888888888888888,
             "#fdca26"
            ],
            [
             1,
             "#f0f921"
            ]
           ],
           "sequentialminus": [
            [
             0,
             "#0d0887"
            ],
            [
             0.1111111111111111,
             "#46039f"
            ],
            [
             0.2222222222222222,
             "#7201a8"
            ],
            [
             0.3333333333333333,
             "#9c179e"
            ],
            [
             0.4444444444444444,
             "#bd3786"
            ],
            [
             0.5555555555555556,
             "#d8576b"
            ],
            [
             0.6666666666666666,
             "#ed7953"
            ],
            [
             0.7777777777777778,
             "#fb9f3a"
            ],
            [
             0.8888888888888888,
             "#fdca26"
            ],
            [
             1,
             "#f0f921"
            ]
           ]
          },
          "colorway": [
           "#636efa",
           "#EF553B",
           "#00cc96",
           "#ab63fa",
           "#FFA15A",
           "#19d3f3",
           "#FF6692",
           "#B6E880",
           "#FF97FF",
           "#FECB52"
          ],
          "font": {
           "color": "#2a3f5f"
          },
          "geo": {
           "bgcolor": "white",
           "lakecolor": "white",
           "landcolor": "#E5ECF6",
           "showlakes": true,
           "showland": true,
           "subunitcolor": "white"
          },
          "hoverlabel": {
           "align": "left"
          },
          "hovermode": "closest",
          "mapbox": {
           "style": "light"
          },
          "paper_bgcolor": "white",
          "plot_bgcolor": "#E5ECF6",
          "polar": {
           "angularaxis": {
            "gridcolor": "white",
            "linecolor": "white",
            "ticks": ""
           },
           "bgcolor": "#E5ECF6",
           "radialaxis": {
            "gridcolor": "white",
            "linecolor": "white",
            "ticks": ""
           }
          },
          "scene": {
           "xaxis": {
            "backgroundcolor": "#E5ECF6",
            "gridcolor": "white",
            "gridwidth": 2,
            "linecolor": "white",
            "showbackground": true,
            "ticks": "",
            "zerolinecolor": "white"
           },
           "yaxis": {
            "backgroundcolor": "#E5ECF6",
            "gridcolor": "white",
            "gridwidth": 2,
            "linecolor": "white",
            "showbackground": true,
            "ticks": "",
            "zerolinecolor": "white"
           },
           "zaxis": {
            "backgroundcolor": "#E5ECF6",
            "gridcolor": "white",
            "gridwidth": 2,
            "linecolor": "white",
            "showbackground": true,
            "ticks": "",
            "zerolinecolor": "white"
           }
          },
          "shapedefaults": {
           "line": {
            "color": "#2a3f5f"
           }
          },
          "ternary": {
           "aaxis": {
            "gridcolor": "white",
            "linecolor": "white",
            "ticks": ""
           },
           "baxis": {
            "gridcolor": "white",
            "linecolor": "white",
            "ticks": ""
           },
           "bgcolor": "#E5ECF6",
           "caxis": {
            "gridcolor": "white",
            "linecolor": "white",
            "ticks": ""
           }
          },
          "title": {
           "x": 0.05
          },
          "xaxis": {
           "automargin": true,
           "gridcolor": "white",
           "linecolor": "white",
           "ticks": "",
           "title": {
            "standoff": 15
           },
           "zerolinecolor": "white",
           "zerolinewidth": 2
          },
          "yaxis": {
           "automargin": true,
           "gridcolor": "white",
           "linecolor": "white",
           "ticks": "",
           "title": {
            "standoff": 15
           },
           "zerolinecolor": "white",
           "zerolinewidth": 2
          }
         }
        },
        "title": {
         "text": "Drug Overdose Death Rates in 2018 based on Age Group and Type of Overdose",
         "x": 0.5,
         "y": 0.95
        },
        "xaxis": {
         "anchor": "y",
         "domain": [
          0,
          1
         ],
         "title": {
          "text": "Age"
         }
        },
        "yaxis": {
         "anchor": "x",
         "domain": [
          0,
          1
         ],
         "title": {
          "text": "Deaths per 100,000"
         }
        }
       }
      }
     },
     "metadata": {},
     "output_type": "display_data"
    }
   ],
   "source": [
    "#Plotly Visualization\n",
    "import plotly.graph_objects as go\n",
    "import plotly.express as px\n",
    "\n",
    "# Data filtering and re-labeling \n",
    "filtered_data = data[(data['YEAR'] == 2018) & (data['STUB_NAME'] == 'Age')]\n",
    "\n",
    "panel_mapping = {'Drug overdose deaths involving other synthetic opioids (other than methadone)': 'Synthetic opioids other than methadone', \n",
    "                 'Drug overdose deaths involving any opioid': 'Any opioid', \n",
    "                 'Drug overdose deaths involving heroin': 'Heroin', \n",
    "                 'Drug overdose deaths involving methadone': 'Methadone',\n",
    "                 'Drug overdose deaths involving natural and semisynthetic opioids': 'Natural and semisynthetic opioids'}\n",
    "\n",
    "filtered_data.loc[:, 'PANEL'] = filtered_data['PANEL'].replace(panel_mapping)\n",
    "\n",
    "fig = px.scatter(x= filtered_data['STUB_LABEL'], y=filtered_data['ESTIMATE'],\n",
    "\t             color=filtered_data[\"PANEL\"])\n",
    "\n",
    "fig.update_layout(xaxis_title='Age', yaxis_title='Deaths per 100,000')\n",
    "fig.update_layout(title_text='Drug Overdose Death Rates in 2018 based on Age Group and Type of Overdose', title_x=0.5, title_y=0.95)\n",
    "\n",
    "fig.show()"
   ]
  }
 ],
 "metadata": {
  "kernelspec": {
   "display_name": "Python 3",
   "language": "python",
   "name": "python3"
  },
  "language_info": {
   "codemirror_mode": {
    "name": "ipython",
    "version": 3
   },
   "file_extension": ".py",
   "mimetype": "text/x-python",
   "name": "python",
   "nbconvert_exporter": "python",
   "pygments_lexer": "ipython3",
   "version": "3.12.2"
  }
 },
 "nbformat": 4,
 "nbformat_minor": 2
}
